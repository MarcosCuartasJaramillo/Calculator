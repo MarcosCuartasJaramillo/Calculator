{
  "cells": [
    {
      "cell_type": "markdown",
      "metadata": {
        "id": "view-in-github",
        "colab_type": "text"
      },
      "source": [
        "<a href=\"https://colab.research.google.com/github/MarcosCuartasJaramillo/Calculator/blob/main/Calculator.ipynb\" target=\"_parent\"><img src=\"https://colab.research.google.com/assets/colab-badge.svg\" alt=\"Open In Colab\"/></a>"
      ]
    },
    {
      "cell_type": "code",
      "source": [
        "while True:\n",
        "  number1 = float(input(\"Enter first number: \"))\n",
        "  number2 = float(input(\"Enter second number: \"))\n",
        "  operator = input(\"Enter the operator: \")\n",
        "\n",
        "  if operator == 'break':\n",
        "    break\n",
        "\n",
        "  if operator == \"+\":\n",
        "    answer = number1 + number2\n",
        "  elif operator == \"-\":\n",
        "    answer = number1 - number2\n",
        "  elif operator == \"*\":\n",
        "    answer = number1 * number2\n",
        "  elif operator == \"/\":\n",
        "    answer = number1 / number2\n",
        "  elif operator == \"//\":\n",
        "    answer = number1 // number2\n",
        "  elif operator == \"**\":\n",
        "    answer = number1 ** number2\n",
        "  elif operator == \"%\":\n",
        "    answer = number1 % number2\n",
        "  else:\n",
        "    print('Invalid operator:',operator)\n",
        "\n",
        "  print('Result:',answer)\n",
        "\n",
        "\n"
      ],
      "metadata": {
        "colab": {
          "base_uri": "https://localhost:8080/"
        },
        "id": "Iq7VlWNPo-i6",
        "outputId": "fdd601d4-c1ff-416f-fe25-4063ea0894db"
      },
      "execution_count": null,
      "outputs": [
        {
          "metadata": {
            "tags": null
          },
          "name": "stdout",
          "output_type": "stream",
          "text": [
            "Invalid operator: and\n",
            "Result: 9.0\n"
          ]
        }
      ]
    }
  ],
  "metadata": {
    "colab": {
      "provenance": [],
      "authorship_tag": "ABX9TyOCVyW92VJJHsPt8fK1wKRT",
      "include_colab_link": true
    },
    "kernelspec": {
      "display_name": "Python 3",
      "name": "python3"
    },
    "language_info": {
      "name": "python"
    }
  },
  "nbformat": 4,
  "nbformat_minor": 0
}